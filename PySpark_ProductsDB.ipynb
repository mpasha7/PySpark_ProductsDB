{
  "nbformat": 4,
  "nbformat_minor": 0,
  "metadata": {
    "colab": {
      "provenance": [],
      "authorship_tag": "ABX9TyN+nZW6wvRTebUD73us22gH",
      "include_colab_link": true
    },
    "kernelspec": {
      "name": "python3",
      "display_name": "Python 3"
    },
    "language_info": {
      "name": "python"
    }
  },
  "cells": [
    {
      "cell_type": "markdown",
      "metadata": {
        "id": "view-in-github",
        "colab_type": "text"
      },
      "source": [
        "<a href=\"https://colab.research.google.com/github/mpasha7/PySpark_ProductsDB/blob/main/PySpark_ProductsDB.ipynb\" target=\"_parent\"><img src=\"https://colab.research.google.com/assets/colab-badge.svg\" alt=\"Open In Colab\"/></a>"
      ]
    },
    {
      "cell_type": "code",
      "execution_count": 1,
      "metadata": {
        "colab": {
          "base_uri": "https://localhost:8080/"
        },
        "id": "gE3T06E452F-",
        "outputId": "bb7033a8-2075-420c-cf75-797f47e0c4a3"
      },
      "outputs": [
        {
          "output_type": "stream",
          "name": "stdout",
          "text": [
            "Requirement already satisfied: pyspark in /usr/local/lib/python3.11/dist-packages (3.5.5)\n",
            "Requirement already satisfied: py4j==0.10.9.7 in /usr/local/lib/python3.11/dist-packages (from pyspark) (0.10.9.7)\n"
          ]
        }
      ],
      "source": [
        "!pip install pyspark"
      ]
    },
    {
      "cell_type": "code",
      "source": [
        "from pyspark.sql import SparkSession\n",
        "spark = SparkSession.builder.appName('Products').getOrCreate()\n",
        "spark"
      ],
      "metadata": {
        "id": "QlsBw9f56JXe",
        "colab": {
          "base_uri": "https://localhost:8080/",
          "height": 219
        },
        "outputId": "305fda0b-9a54-4070-c011-fd30beaaf1f7"
      },
      "execution_count": 2,
      "outputs": [
        {
          "output_type": "execute_result",
          "data": {
            "text/plain": [
              "<pyspark.sql.session.SparkSession at 0x7aed4d764e10>"
            ],
            "text/html": [
              "\n",
              "            <div>\n",
              "                <p><b>SparkSession - in-memory</b></p>\n",
              "                \n",
              "        <div>\n",
              "            <p><b>SparkContext</b></p>\n",
              "\n",
              "            <p><a href=\"http://20a165425411:4040\">Spark UI</a></p>\n",
              "\n",
              "            <dl>\n",
              "              <dt>Version</dt>\n",
              "                <dd><code>v3.5.5</code></dd>\n",
              "              <dt>Master</dt>\n",
              "                <dd><code>local[*]</code></dd>\n",
              "              <dt>AppName</dt>\n",
              "                <dd><code>Products</code></dd>\n",
              "            </dl>\n",
              "        </div>\n",
              "        \n",
              "            </div>\n",
              "        "
            ]
          },
          "metadata": {},
          "execution_count": 2
        }
      ]
    },
    {
      "cell_type": "code",
      "source": [
        "products = spark.read.csv('Products.csv', header=True, inferSchema=True, sep=';', encoding='windows-1251')\n",
        "products.show()"
      ],
      "metadata": {
        "id": "U7-1pzM_7ocu",
        "colab": {
          "base_uri": "https://localhost:8080/"
        },
        "outputId": "00d7d466-1669-44aa-ebe5-12b51f2b8a18"
      },
      "execution_count": 3,
      "outputs": [
        {
          "output_type": "stream",
          "name": "stdout",
          "text": [
            "+---+------------+-----+-----+\n",
            "| Id|        Name|Price|Count|\n",
            "+---+------------+-----+-----+\n",
            "|  1|      Огурцы|   50|   55|\n",
            "|  2|      Томаты|   80|   67|\n",
            "|  3|     Капуста|   30|   32|\n",
            "|  4|      Яблоки|   50|   45|\n",
            "|  5|   Апельсины|   70|   68|\n",
            "|  6|    Виноград|   90|   53|\n",
            "|  7|       Чипсы|  100|   12|\n",
            "|  8|     Лимонад|   80|   24|\n",
            "|  9|     Сендвич|  100|    5|\n",
            "| 10|Салат Цезарь|  120|    7|\n",
            "+---+------------+-----+-----+\n",
            "\n"
          ]
        }
      ]
    },
    {
      "cell_type": "code",
      "source": [
        "products.printSchema()"
      ],
      "metadata": {
        "colab": {
          "base_uri": "https://localhost:8080/"
        },
        "id": "H7b8IZKQv0U8",
        "outputId": "854fc82a-fa79-4819-d79c-544281c1fc81"
      },
      "execution_count": 4,
      "outputs": [
        {
          "output_type": "stream",
          "name": "stdout",
          "text": [
            "root\n",
            " |-- Id: integer (nullable = true)\n",
            " |-- Name: string (nullable = true)\n",
            " |-- Price: integer (nullable = true)\n",
            " |-- Count: integer (nullable = true)\n",
            "\n"
          ]
        }
      ]
    },
    {
      "cell_type": "code",
      "source": [
        "categories = spark.read.csv('Categories.csv', header=True, inferSchema=True, sep=';', encoding='windows-1251')\n",
        "categories.show()"
      ],
      "metadata": {
        "colab": {
          "base_uri": "https://localhost:8080/"
        },
        "id": "j5VYO7u0v0Xv",
        "outputId": "4ed6ace5-b24a-4031-b020-3f34970b5a8e"
      },
      "execution_count": 5,
      "outputs": [
        {
          "output_type": "stream",
          "name": "stdout",
          "text": [
            "+---+-----------------+\n",
            "| Id|            Title|\n",
            "+---+-----------------+\n",
            "|  1|            Овощи|\n",
            "|  2|           Фрукты|\n",
            "|  3|             Мясо|\n",
            "|  4|              Сыр|\n",
            "|  5|             Хлеб|\n",
            "|  6|   Весовые товары|\n",
            "|  7| Акционные товары|\n",
            "|  8| Импортные товары|\n",
            "|  9|Готовая продукция|\n",
            "+---+-----------------+\n",
            "\n"
          ]
        }
      ]
    },
    {
      "cell_type": "code",
      "source": [
        "categories.printSchema()"
      ],
      "metadata": {
        "id": "FjSdWZ1b0TAl",
        "colab": {
          "base_uri": "https://localhost:8080/"
        },
        "outputId": "023b2c71-1b6f-4b29-a383-1ebfb0778456"
      },
      "execution_count": 6,
      "outputs": [
        {
          "output_type": "stream",
          "name": "stdout",
          "text": [
            "root\n",
            " |-- Id: integer (nullable = true)\n",
            " |-- Title: string (nullable = true)\n",
            "\n"
          ]
        }
      ]
    },
    {
      "cell_type": "code",
      "source": [
        "relations = spark.read.csv('Relations.csv', header=True, inferSchema=True, sep=';')\n",
        "relations.show()"
      ],
      "metadata": {
        "colab": {
          "base_uri": "https://localhost:8080/"
        },
        "id": "DbAyHhdE7YNJ",
        "outputId": "1b6bc4df-f3df-4ed9-9c88-425ce3b9bd91"
      },
      "execution_count": 7,
      "outputs": [
        {
          "output_type": "stream",
          "name": "stdout",
          "text": [
            "+---------+----------+\n",
            "|ProductId|CategoryId|\n",
            "+---------+----------+\n",
            "|        1|         1|\n",
            "|        1|         6|\n",
            "|        2|         1|\n",
            "|        2|         6|\n",
            "|        3|         1|\n",
            "|        3|         6|\n",
            "|        4|         2|\n",
            "|        4|         6|\n",
            "|        4|         7|\n",
            "|        5|         2|\n",
            "|        5|         6|\n",
            "|        6|         2|\n",
            "|        6|         6|\n",
            "|        9|         9|\n",
            "|       10|         9|\n",
            "|       10|         7|\n",
            "+---------+----------+\n",
            "\n"
          ]
        }
      ]
    },
    {
      "cell_type": "code",
      "source": [
        "relations.printSchema()"
      ],
      "metadata": {
        "colab": {
          "base_uri": "https://localhost:8080/"
        },
        "id": "LWX2E4DMQSvy",
        "outputId": "36b5ea00-080c-485d-d4c8-03f5aae92804"
      },
      "execution_count": 8,
      "outputs": [
        {
          "output_type": "stream",
          "name": "stdout",
          "text": [
            "root\n",
            " |-- ProductId: integer (nullable = true)\n",
            " |-- CategoryId: integer (nullable = true)\n",
            "\n"
          ]
        }
      ]
    },
    {
      "cell_type": "code",
      "source": [
        "def left_left_join(left_table,\n",
        "                 many_to_many_table,\n",
        "                 right_table,\n",
        "                 on_cols: list,\n",
        "                 output_cols: list):\n",
        "    '''\n",
        "    Связывает заданные датафреймы (left_table и right_table)\n",
        "    сявзью \"многие ко многим\" через промежуточный датафрейм (many_to_many_table)\n",
        "    по принципу LEFT JOIN + LEFT JOIN с заданными ключами (on_cols).\n",
        "    Выбирает необходимые столбцы (output_cols) из полученной таблицы.\n",
        "    '''\n",
        "    return left_table.join(many_to_many_table, left_table[on_cols[0]] == many_to_many_table[on_cols[1]], how='left')\\\n",
        "                     .join(right_table, many_to_many_table[on_cols[2]] == right_table[on_cols[3]], how='left')\\\n",
        "                     .select(output_cols)"
      ],
      "metadata": {
        "id": "PJSN6z0J9TSi"
      },
      "execution_count": 9,
      "outputs": []
    },
    {
      "cell_type": "code",
      "source": [
        "### Полученный датафрейм (result) содержит все пары \"Имя продукта - Имя категории\"\n",
        "### и имена продуктов без категорий (Чипсы, Лимонад).\n",
        "### Категории, не принадлежащие ни к одному продукту (Сыр, Хлеб, Импортные товары) в выборку не попали.\n",
        "result = left_left_join(products, relations, categories,\n",
        "                        ['Id', 'ProductId', 'CategoryId', 'Id'],\n",
        "                        [products.Name, categories.Title])\n",
        "result.show()"
      ],
      "metadata": {
        "colab": {
          "base_uri": "https://localhost:8080/"
        },
        "id": "jg37rRZo7h9g",
        "outputId": "6c0c01a9-2e1d-42d1-a269-8dfb4b461d0c"
      },
      "execution_count": 10,
      "outputs": [
        {
          "output_type": "stream",
          "name": "stdout",
          "text": [
            "+------------+-----------------+\n",
            "|        Name|            Title|\n",
            "+------------+-----------------+\n",
            "|      Огурцы|   Весовые товары|\n",
            "|      Огурцы|            Овощи|\n",
            "|      Томаты|   Весовые товары|\n",
            "|      Томаты|            Овощи|\n",
            "|     Капуста|   Весовые товары|\n",
            "|     Капуста|            Овощи|\n",
            "|      Яблоки| Акционные товары|\n",
            "|      Яблоки|   Весовые товары|\n",
            "|      Яблоки|           Фрукты|\n",
            "|   Апельсины|   Весовые товары|\n",
            "|   Апельсины|           Фрукты|\n",
            "|    Виноград|   Весовые товары|\n",
            "|    Виноград|           Фрукты|\n",
            "|       Чипсы|             NULL|\n",
            "|     Лимонад|             NULL|\n",
            "|     Сендвич|Готовая продукция|\n",
            "|Салат Цезарь| Акционные товары|\n",
            "|Салат Цезарь|Готовая продукция|\n",
            "+------------+-----------------+\n",
            "\n"
          ]
        }
      ]
    },
    {
      "cell_type": "code",
      "source": [],
      "metadata": {
        "id": "CPwf9ab47iBN"
      },
      "execution_count": null,
      "outputs": []
    },
    {
      "cell_type": "code",
      "source": [],
      "metadata": {
        "id": "LRzRdDEI7iE3"
      },
      "execution_count": null,
      "outputs": []
    }
  ]
}